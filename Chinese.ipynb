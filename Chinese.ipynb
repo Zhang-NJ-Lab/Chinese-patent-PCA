{
 "cells": [
  {
   "cell_type": "code",
   "execution_count": 8,
   "id": "7a798eea-f475-4565-8f43-cfb9167d81b0",
   "metadata": {},
   "outputs": [],
   "source": [
    "# -*- coding:utf-8 -*-\n",
    "from gensim import models\n",
    "import numpy as np\n",
    "import nltk\n",
    "from sklearn.decomposition import PCA\n",
    "import jieba\n",
    "import gensim\n",
    "from sklearn.metrics import confusion_matrix\n",
    "import matplotlib.pyplot as plt\n",
    "import numpy as np\n",
    "import pandas as pd\n",
    "from pandas import DataFrame\n",
    "import seaborn as sns\n",
    "import jieba.analyse\n",
    "from gensim.test.utils import common_texts, get_tmpfile\n",
    "from gensim.models import word2vec, KeyedVectors,Word2Vec\n",
    "import jieba.posseg as pseg #加载各库\n",
    "import pkuseg\n",
    "import csv\n",
    "import itertools\n",
    "import matplotlib.pyplot as plt\n",
    "# -*- coding:utf-8 -*-\n",
    "#jieba.load_userdict(\"userdict.txt\")  #加载自定义词典"
   ]
  },
  {
   "cell_type": "code",
   "execution_count": 9,
   "id": "c56b903d-a431-4165-b897-944cd928c650",
   "metadata": {},
   "outputs": [],
   "source": [
    "from nltk.tokenize import MWETokenizer\n",
    "stopwords = [line.strip() for line in open('stop_words.txt', encoding='UTF-8').readlines()] #加载自定义停止词"
   ]
  },
  {
   "cell_type": "code",
   "execution_count": 10,
   "id": "69259c36-7c76-4e09-b16c-f9406a5e0849",
   "metadata": {},
   "outputs": [],
   "source": [
    "sentence=str()\n",
    "\n",
    "with open('WF-CNKI.txt', encoding='utf-8') as f: #加载原始数据库并分词\n",
    "    document = f.read()\n",
    "    #document_cut = jieba.cut(document)\n",
    "    tokenizer = MWETokenizer([('solar', 'cell')], separator = '_')\n",
    "    seg = pkuseg.pkuseg(user_dict = \"userdict.txt\")\n",
    "    text=tokenizer.tokenize(nltk.word_tokenize(document))\n",
    "    result = ' '.join(text)\n",
    "    for word in result:\n",
    "        if word not in stopwords:\n",
    "            if word != \"\\t\":\n",
    "                sentence += word\n",
    "\n",
    "    with open('0828.txt', 'w',encoding=\"utf-8\") as f2:\n",
    "        f2.write(sentence)"
   ]
  },
  {
   "cell_type": "code",
   "execution_count": 11,
   "id": "a20199b5-ecbd-4e88-9bce-ac6ad8a4eb49",
   "metadata": {},
   "outputs": [],
   "source": [
    "#加载语料\n",
    "sentences = word2vec.LineSentence('0828.txt') #正式训练前的格式化"
   ]
  },
  {
   "cell_type": "code",
   "execution_count": 21,
   "id": "72c9853e-9594-460c-b654-5764b4fe468f",
   "metadata": {},
   "outputs": [],
   "source": [
    "#训练语料\n",
    "\n",
    "model = word2vec.Word2Vec(sentences,sg=1, hs=0,min_count=1,window=10,vector_size=100)\n"
   ]
  },
  {
   "cell_type": "code",
   "execution_count": 22,
   "id": "b6ba3ca0-ad01-4fbc-be17-934c57ffd1e2",
   "metadata": {},
   "outputs": [],
   "source": [
    "model.wv.save_word2vec_format(r\"word2vec0828b.bin\") #保存模型"
   ]
  },
  {
   "cell_type": "code",
   "execution_count": 25,
   "id": "af94813c-2130-49f4-a302-2473bb68e126",
   "metadata": {},
   "outputs": [],
   "source": [
    "# model = gensim.models.Word2Vec.load('word2vec0828b.bin') #加载模型\n",
    "model = KeyedVectors.load_word2vec_format(r\"word2vec0828b.bin\" ,binary= False) "
   ]
  },
  {
   "cell_type": "code",
   "execution_count": 29,
   "id": "7674c9ac-e7ab-4eea-8314-59017d6dcfa5",
   "metadata": {},
   "outputs": [
    {
     "name": "stdout",
     "output_type": "stream",
     "text": [
      "[[-2.429209   -0.4185361 ]\n",
      " [-1.5946292   0.3461516 ]\n",
      " [-0.9985866  -0.36804724]\n",
      " [ 1.940988    0.23855276]\n",
      " [ 3.3450956  -0.34417856]\n",
      " [-0.26365933  0.5460573 ]]\n"
     ]
    },
    {
     "data": {
      "image/png": "[encoded data removed]",
      "text/plain": [
       "<Figure size 432x288 with 1 Axes>"
      ]
     },
     "metadata": {
      "needs_background": "light"
     },
     "output_type": "display_data"
    }
   ],
   "source": [
    "X = np.array(model['Cu','Fe','Zn','CuO','FeO','ZnO']) #选择词\n",
    "pca = PCA(n_components=2) #选择需要降成的维度\n",
    "Y = pca.fit_transform(X) #将100维词向量降维成2维\n",
    "\n",
    "print(Y)\n",
    "txt = ['Cu','Fe','Zn','CuO','FeO','ZnO','光伏'] #图中每个点的标注\n",
    "\n",
    "x = Y[:,0] #图中每个点的横坐标\n",
    "\n",
    "y = Y[:,1] #图中每个点的纵坐标\n",
    "\n",
    "plt.scatter(x, y)\n",
    "for i in range(len(x)):\n",
    "    plt.annotate(txt[i], xy = (x[i], y[i]), xytext = (x[i]+0.001, y[i]+0.001)) #使用matplotlib在图中画出每个点\n",
    "\n",
    "plt.show()"
   ]
  },
  {
   "cell_type": "code",
   "execution_count": null,
   "id": "b83fdfd0-e183-47eb-873c-c431f3a5df7c",
   "metadata": {},
   "outputs": [],
   "source": []
  }
 ],
 "metadata": {
  "kernelspec": {
   "display_name": "Python [conda env:py37]",
   "language": "python",
   "name": "conda-env-py37-py"
  },
  "language_info": {
   "codemirror_mode": {
    "name": "ipython",
    "version": 3
   },
   "file_extension": ".py",
   "mimetype": "text/x-python",
   "name": "python",
   "nbconvert_exporter": "python",
   "pygments_lexer": "ipython3",
   "version": "3.7.0"
  }
 },
 "nbformat": 4,
 "nbformat_minor": 5
}
