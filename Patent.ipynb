{
 "cells": [
  {
   "cell_type": "code",
   "execution_count": 1,
   "id": "dd700f32-b82b-4b53-9ede-89e37f57b9b4",
   "metadata": {},
   "outputs": [],
   "source": [
    "from nltk.tokenize import MWETokenizer\n",
    "stopwords = [line.strip() for line in open('stop_words.txt', encoding='UTF-8').readlines()] #加载自定义停止词"
   ]
  },
  {
   "cell_type": "code",
   "execution_count": 2,
   "id": "baee7890-d141-4f8f-81c7-a5e4bdc0a150",
   "metadata": {},
   "outputs": [],
   "source": [
    "import pandas as pd"
   ]
  },
  {
   "cell_type": "code",
   "execution_count": 3,
   "id": "d668af7b-a5e1-4eae-8fe2-5f63a874d31c",
   "metadata": {},
   "outputs": [],
   "source": [
    "data = pd.read_excel(\"convert.xlsx\")\n"
   ]
  },
  {
   "cell_type": "code",
   "execution_count": 4,
   "id": "7785b18e-a348-4480-8294-28a23f6c0747",
   "metadata": {},
   "outputs": [
    {
     "data": {
      "text/html": [
       "<div>\n",
       "<style scoped>\n",
       "    .dataframe tbody tr th:only-of-type {\n",
       "        vertical-align: middle;\n",
       "    }\n",
       "\n",
       "    .dataframe tbody tr th {\n",
       "        vertical-align: top;\n",
       "    }\n",
       "\n",
       "    .dataframe thead th {\n",
       "        text-align: right;\n",
       "    }\n",
       "</style>\n",
       "<table border=\"1\" class=\"dataframe\">\n",
       "  <thead>\n",
       "    <tr style=\"text-align: right;\">\n",
       "      <th></th>\n",
       "      <th>title</th>\n",
       "      <th>author</th>\n",
       "      <th>com</th>\n",
       "      <th>public</th>\n",
       "      <th>sql</th>\n",
       "      <th>quote</th>\n",
       "      <th>download</th>\n",
       "      <th>href</th>\n",
       "      <th>ChDiv_summary</th>\n",
       "      <th>claim_text</th>\n",
       "    </tr>\n",
       "  </thead>\n",
       "  <tbody>\n",
       "    <tr>\n",
       "      <th>0</th>\n",
       "      <td>纳米晶石</td>\n",
       "      <td>肖安;何振华;肖劲东;安黛宗</td>\n",
       "      <td>深圳务本材料科技有限公司</td>\n",
       "      <td>中国专利</td>\n",
       "      <td>2020-08-25</td>\n",
       "      <td>2020-12-22</td>\n",
       "      <td>下载</td>\n",
       "      <td>https://kns.cnki.net/kcms/detail/detail.aspx?d...</td>\n",
       "      <td>本发明公开一种纳米晶石,纳米晶石材料结构为在基体内具有由开口气孔和毛细管道所构成多孔材料,相...</td>\n",
       "      <td>1.一种纳米晶石,其特征是：所述的纳米晶石材料结构为在基体内具有由开口气孔和毛细管道所构成多...</td>\n",
       "    </tr>\n",
       "    <tr>\n",
       "      <th>1</th>\n",
       "      <td>利用材料物理特性对锌电积极板预开口的方法及设备</td>\n",
       "      <td>李杰</td>\n",
       "      <td>中际山河科技有限责任公司</td>\n",
       "      <td>中国专利</td>\n",
       "      <td>2020-08-25</td>\n",
       "      <td>2020-12-11</td>\n",
       "      <td>下载</td>\n",
       "      <td>https://kns.cnki.net/kcms/detail/detail.aspx?d...</td>\n",
       "      <td>本发明提供一种利用材料物理特性对锌电积极板预开口的方法及设备。利用材料物理特性对锌电积极板预...</td>\n",
       "      <td>1.一种利用材料物理特性对锌电积极板预开口的方法,用于处理沉积有锌层的铝制阴极板,其特征在于...</td>\n",
       "    </tr>\n",
       "    <tr>\n",
       "      <th>2</th>\n",
       "      <td>一种材料物理制备取样分析装置</td>\n",
       "      <td>丰远;刘慧;边健</td>\n",
       "      <td>合肥学院</td>\n",
       "      <td>中国专利</td>\n",
       "      <td>2020-04-14</td>\n",
       "      <td>2020-12-08</td>\n",
       "      <td>下载</td>\n",
       "      <td>https://kns.cnki.net/kcms/detail/detail.aspx?d...</td>\n",
       "      <td>本实用新型属于材料分析技术领域,具体公开了一种材料物理制备取样分析装置,包括分析装置主体、支...</td>\n",
       "      <td>1.一种材料物理制备取样分析装置,包括分析装置主体(1)、支撑连接板(2)、外壳(4)和支撑...</td>\n",
       "    </tr>\n",
       "    <tr>\n",
       "      <th>3</th>\n",
       "      <td>光学滤波器</td>\n",
       "      <td>馆村满幸</td>\n",
       "      <td>AGC株式会社</td>\n",
       "      <td>中国专利</td>\n",
       "      <td>2019-03-25</td>\n",
       "      <td>2020-11-17</td>\n",
       "      <td>下载</td>\n",
       "      <td>https://kns.cnki.net/kcms/detail/detail.aspx?d...</td>\n",
       "      <td>本发明涉及一种光学滤波器(1),具备透明基板(10)以及3个以上的薄膜层叠结构体(11)、(...</td>\n",
       "      <td>1.一种光学滤波器,具备透明基板以及3个以上的薄膜层叠结构体,所述3个以上的薄膜层叠结构体分...</td>\n",
       "    </tr>\n",
       "    <tr>\n",
       "      <th>4</th>\n",
       "      <td>一种材料物理电阻实验教具</td>\n",
       "      <td>高娟;孙亚娟;张洁;孙小卫</td>\n",
       "      <td>安徽理工大学</td>\n",
       "      <td>中国专利</td>\n",
       "      <td>2018-10-18</td>\n",
       "      <td>2020-10-30</td>\n",
       "      <td>下载</td>\n",
       "      <td>https://kns.cnki.net/kcms/detail/detail.aspx?d...</td>\n",
       "      <td>本发明属于实验教具技术领域,具体涉及一种材料物理电阻实验教具,包括电阻组件,电阻组件包括卷筒...</td>\n",
       "      <td>1.一种材料物理电阻实验教具,其特征在于：包括电阻组件(10),电阻组件(10)包括卷筒(1...</td>\n",
       "    </tr>\n",
       "    <tr>\n",
       "      <th>...</th>\n",
       "      <td>...</td>\n",
       "      <td>...</td>\n",
       "      <td>...</td>\n",
       "      <td>...</td>\n",
       "      <td>...</td>\n",
       "      <td>...</td>\n",
       "      <td>...</td>\n",
       "      <td>...</td>\n",
       "      <td>...</td>\n",
       "      <td>...</td>\n",
       "    </tr>\n",
       "    <tr>\n",
       "      <th>111633</th>\n",
       "      <td>高效太阳能电池</td>\n",
       "      <td>赖志勤</td>\n",
       "      <td>赖志勤</td>\n",
       "      <td>中国专利</td>\n",
       "      <td>1987-08-07</td>\n",
       "      <td>1989-02-15</td>\n",
       "      <td>下载</td>\n",
       "      <td>https://kns.cnki.net/kcms/detail/detail.aspx?d...</td>\n",
       "      <td>本发明涉及的是一种新型结构的高效太阳能电池。$本发明的新型结构太阳能电池是利用太阳光激发PN...</td>\n",
       "      <td>一种高效太阳光发电装置,它由透明导电层、P＊结层、背板\\r\\n\\r\\n\\r\\n\\r\\n电极层...</td>\n",
       "    </tr>\n",
       "    <tr>\n",
       "      <th>111634</th>\n",
       "      <td>具有多层薄膜迭合的半导体层的薄膜光电电动势元件</td>\n",
       "      <td>中川克已;清水勇</td>\n",
       "      <td>佳能株式会社</td>\n",
       "      <td>中国专利</td>\n",
       "      <td>1988-03-28</td>\n",
       "      <td>1988-10-05</td>\n",
       "      <td>下载</td>\n",
       "      <td>https://kns.cnki.net/kcms/detail/detail.aspx?d...</td>\n",
       "      <td>改进的针型和肖特基型薄膜光电电动势元件具有令人满意的短路电流(Isc)、开路电压(Voc)、...</td>\n",
       "      <td>一种改进的薄膜光电电动势元件,其特征在于,N型和P型半\\r\\n\\r\\n\\r\\n\\r\\n导体层...</td>\n",
       "    </tr>\n",
       "    <tr>\n",
       "      <th>111635</th>\n",
       "      <td>太阳电池组件</td>\n",
       "      <td>竹贞哉</td>\n",
       "      <td>夏普公司</td>\n",
       "      <td>中国专利</td>\n",
       "      <td>1985-04-01</td>\n",
       "      <td>1987-11-11</td>\n",
       "      <td>下载</td>\n",
       "      <td>https://kns.cnki.net/kcms/detail/detail.aspx?d...</td>\n",
       "      <td>在埋设太阳电池单体的树脂背面,覆盖着防潮湿用的金属箔薄膜,并设有电动势输出框架,该框架和上述...</td>\n",
       "      <td>1、一种太阳电池组件,包括具有受光面的受光板,至少一个以上的太阳电池单体;将上述太阳电池单体...</td>\n",
       "    </tr>\n",
       "    <tr>\n",
       "      <th>111636</th>\n",
       "      <td>太阳电池组件</td>\n",
       "      <td>竹冈贞哉</td>\n",
       "      <td>夏普公司</td>\n",
       "      <td>中国专利</td>\n",
       "      <td>1985-04-01</td>\n",
       "      <td>1987-11-11</td>\n",
       "      <td>下载</td>\n",
       "      <td>https://kns.cnki.net/kcms/detail/detail.aspx?d...</td>\n",
       "      <td>在埋设太阳电池单体的树脂背面,覆盖着防潮湿用的金属箔薄膜,并设有电动势输出框架.该框架和上述...</td>\n",
       "      <td>太阳电池组件,其特征在于,在埋设太阳电池单体的树脂背面\\r\\n\\r\\n\\r\\n\\r\\n,复盖...</td>\n",
       "    </tr>\n",
       "    <tr>\n",
       "      <th>111637</th>\n",
       "      <td>太阳能重复发电的方法与装置</td>\n",
       "      <td>张瑞武</td>\n",
       "      <td>清华大学</td>\n",
       "      <td>中国专利</td>\n",
       "      <td>1985-04-01</td>\n",
       "      <td>1986-08-20</td>\n",
       "      <td>下载</td>\n",
       "      <td>https://kns.cnki.net/kcms/detail/detail.aspx?d...</td>\n",
       "      <td>一种太阳能重复发电的方法与装置,其特点是首先利用太阳能电池进行直接光电转换,然后利用半导体温...</td>\n",
       "      <td>一种利用太阳能电池进行光电转换的方法,其特征是先利用太\\r\\n\\r\\n\\r\\n\\r\\n阳能电...</td>\n",
       "    </tr>\n",
       "  </tbody>\n",
       "</table>\n",
       "<p>111638 rows × 10 columns</p>\n",
       "</div>"
      ],
      "text/plain": [
       "                          title          author           com public  \\\n",
       "0                          纳米晶石  肖安;何振华;肖劲东;安黛宗  深圳务本材料科技有限公司   中国专利   \n",
       "1       利用材料物理特性对锌电积极板预开口的方法及设备              李杰  中际山河科技有限责任公司   中国专利   \n",
       "2                一种材料物理制备取样分析装置        丰远;刘慧;边健          合肥学院   中国专利   \n",
       "3                         光学滤波器            馆村满幸       AGC株式会社   中国专利   \n",
       "4                  一种材料物理电阻实验教具   高娟;孙亚娟;张洁;孙小卫        安徽理工大学   中国专利   \n",
       "...                         ...             ...           ...    ...   \n",
       "111633                  高效太阳能电池             赖志勤           赖志勤   中国专利   \n",
       "111634  具有多层薄膜迭合的半导体层的薄膜光电电动势元件        中川克已;清水勇        佳能株式会社   中国专利   \n",
       "111635                   太阳电池组件            竹贞哉          夏普公司   中国专利   \n",
       "111636                   太阳电池组件            竹冈贞哉          夏普公司   中国专利   \n",
       "111637            太阳能重复发电的方法与装置             张瑞武          清华大学   中国专利   \n",
       "\n",
       "               sql       quote download  \\\n",
       "0       2020-08-25  2020-12-22       下载   \n",
       "1       2020-08-25  2020-12-11       下载   \n",
       "2       2020-04-14  2020-12-08       下载   \n",
       "3       2019-03-25  2020-11-17       下载   \n",
       "4       2018-10-18  2020-10-30       下载   \n",
       "...            ...         ...      ...   \n",
       "111633  1987-08-07  1989-02-15       下载   \n",
       "111634  1988-03-28  1988-10-05       下载   \n",
       "111635  1985-04-01  1987-11-11       下载   \n",
       "111636  1985-04-01  1987-11-11       下载   \n",
       "111637  1985-04-01  1986-08-20       下载   \n",
       "\n",
       "                                                     href  \\\n",
       "0       https://kns.cnki.net/kcms/detail/detail.aspx?d...   \n",
       "1       https://kns.cnki.net/kcms/detail/detail.aspx?d...   \n",
       "2       https://kns.cnki.net/kcms/detail/detail.aspx?d...   \n",
       "3       https://kns.cnki.net/kcms/detail/detail.aspx?d...   \n",
       "4       https://kns.cnki.net/kcms/detail/detail.aspx?d...   \n",
       "...                                                   ...   \n",
       "111633  https://kns.cnki.net/kcms/detail/detail.aspx?d...   \n",
       "111634  https://kns.cnki.net/kcms/detail/detail.aspx?d...   \n",
       "111635  https://kns.cnki.net/kcms/detail/detail.aspx?d...   \n",
       "111636  https://kns.cnki.net/kcms/detail/detail.aspx?d...   \n",
       "111637  https://kns.cnki.net/kcms/detail/detail.aspx?d...   \n",
       "\n",
       "                                            ChDiv_summary  \\\n",
       "0       本发明公开一种纳米晶石,纳米晶石材料结构为在基体内具有由开口气孔和毛细管道所构成多孔材料,相...   \n",
       "1       本发明提供一种利用材料物理特性对锌电积极板预开口的方法及设备。利用材料物理特性对锌电积极板预...   \n",
       "2       本实用新型属于材料分析技术领域,具体公开了一种材料物理制备取样分析装置,包括分析装置主体、支...   \n",
       "3       本发明涉及一种光学滤波器(1),具备透明基板(10)以及3个以上的薄膜层叠结构体(11)、(...   \n",
       "4       本发明属于实验教具技术领域,具体涉及一种材料物理电阻实验教具,包括电阻组件,电阻组件包括卷筒...   \n",
       "...                                                   ...   \n",
       "111633  本发明涉及的是一种新型结构的高效太阳能电池。$本发明的新型结构太阳能电池是利用太阳光激发PN...   \n",
       "111634  改进的针型和肖特基型薄膜光电电动势元件具有令人满意的短路电流(Isc)、开路电压(Voc)、...   \n",
       "111635  在埋设太阳电池单体的树脂背面,覆盖着防潮湿用的金属箔薄膜,并设有电动势输出框架,该框架和上述...   \n",
       "111636  在埋设太阳电池单体的树脂背面,覆盖着防潮湿用的金属箔薄膜,并设有电动势输出框架.该框架和上述...   \n",
       "111637  一种太阳能重复发电的方法与装置,其特点是首先利用太阳能电池进行直接光电转换,然后利用半导体温...   \n",
       "\n",
       "                                               claim_text  \n",
       "0       1.一种纳米晶石,其特征是：所述的纳米晶石材料结构为在基体内具有由开口气孔和毛细管道所构成多...  \n",
       "1       1.一种利用材料物理特性对锌电积极板预开口的方法,用于处理沉积有锌层的铝制阴极板,其特征在于...  \n",
       "2       1.一种材料物理制备取样分析装置,包括分析装置主体(1)、支撑连接板(2)、外壳(4)和支撑...  \n",
       "3       1.一种光学滤波器,具备透明基板以及3个以上的薄膜层叠结构体,所述3个以上的薄膜层叠结构体分...  \n",
       "4       1.一种材料物理电阻实验教具,其特征在于：包括电阻组件(10),电阻组件(10)包括卷筒(1...  \n",
       "...                                                   ...  \n",
       "111633  一种高效太阳光发电装置,它由透明导电层、P＊结层、背板\\r\\n\\r\\n\\r\\n\\r\\n电极层...  \n",
       "111634  一种改进的薄膜光电电动势元件,其特征在于,N型和P型半\\r\\n\\r\\n\\r\\n\\r\\n导体层...  \n",
       "111635  1、一种太阳电池组件,包括具有受光面的受光板,至少一个以上的太阳电池单体;将上述太阳电池单体...  \n",
       "111636  太阳电池组件,其特征在于,在埋设太阳电池单体的树脂背面\\r\\n\\r\\n\\r\\n\\r\\n,复盖...  \n",
       "111637  一种利用太阳能电池进行光电转换的方法,其特征是先利用太\\r\\n\\r\\n\\r\\n\\r\\n阳能电...  \n",
       "\n",
       "[111638 rows x 10 columns]"
      ]
     },
     "execution_count": 4,
     "metadata": {},
     "output_type": "execute_result"
    }
   ],
   "source": [
    "data"
   ]
  },
  {
   "cell_type": "code",
   "execution_count": 5,
   "id": "4dce3f4e-8e79-4897-8d83-23f49ee65e5e",
   "metadata": {},
   "outputs": [
    {
     "data": {
      "text/plain": [
       "0         本发明公开一种纳米晶石,纳米晶石材料结构为在基体内具有由开口气孔和毛细管道所构成多孔材料,相...\n",
       "1         本发明提供一种利用材料物理特性对锌电积极板预开口的方法及设备。利用材料物理特性对锌电积极板预...\n",
       "2         本实用新型属于材料分析技术领域,具体公开了一种材料物理制备取样分析装置,包括分析装置主体、支...\n",
       "3         本发明涉及一种光学滤波器(1),具备透明基板(10)以及3个以上的薄膜层叠结构体(11)、(...\n",
       "4         本发明属于实验教具技术领域,具体涉及一种材料物理电阻实验教具,包括电阻组件,电阻组件包括卷筒...\n",
       "                                ...                        \n",
       "111633    本发明涉及的是一种新型结构的高效太阳能电池。$本发明的新型结构太阳能电池是利用太阳光激发PN...\n",
       "111634    改进的针型和肖特基型薄膜光电电动势元件具有令人满意的短路电流(Isc)、开路电压(Voc)、...\n",
       "111635    在埋设太阳电池单体的树脂背面,覆盖着防潮湿用的金属箔薄膜,并设有电动势输出框架,该框架和上述...\n",
       "111636    在埋设太阳电池单体的树脂背面,覆盖着防潮湿用的金属箔薄膜,并设有电动势输出框架.该框架和上述...\n",
       "111637    一种太阳能重复发电的方法与装置,其特点是首先利用太阳能电池进行直接光电转换,然后利用半导体温...\n",
       "Name: ChDiv_summary, Length: 111638, dtype: object"
      ]
     },
     "execution_count": 5,
     "metadata": {},
     "output_type": "execute_result"
    }
   ],
   "source": [
    "summary = data['ChDiv_summary']\n",
    "summary"
   ]
  },
  {
   "cell_type": "code",
   "execution_count": 6,
   "id": "a2547c3b-6983-44ad-a5a5-a6ea985ab19b",
   "metadata": {},
   "outputs": [],
   "source": [
    "summary1 = (\"\".join(i for i in summary.astype(str)))"
   ]
  },
  {
   "cell_type": "code",
   "execution_count": 7,
   "id": "53893e31-b452-4938-9229-9b562d13b4da",
   "metadata": {},
   "outputs": [],
   "source": [
    "from nltk.tokenize import MWETokenizer\n",
    "stopwords = [line.strip() for line in open('stop_words.txt', encoding='UTF-8').readlines()] #加载自定义停止词"
   ]
  },
  {
   "cell_type": "code",
   "execution_count": 8,
   "id": "3c497682-3d33-4d85-95da-065e8d998fec",
   "metadata": {},
   "outputs": [],
   "source": [
    "import jieba.analyse\n",
    "import pkuseg\n",
    "import nltk\n",
    "\n",
    "sentence=str()\n",
    "\n",
    "# document_cut = jieba.cut(summary1)\n",
    "tokenizer = MWETokenizer([('solar', 'cell')], separator = '_')\n",
    "# seg = pkuseg.pkuseg(user_dict = \"userdict.txt\")\n",
    "text=tokenizer.tokenize(nltk.word_tokenize(summary1))\n",
    "result = ' '.join(text)\n",
    "for word in result:\n",
    "    if word not in stopwords:\n",
    "        if word != \"\\t\":\n",
    "            sentence += word\n",
    "\n",
    "with open('0828.txt', 'w',encoding=\"utf-8\") as f2:\n",
    "    f2.write(sentence)"
   ]
  },
  {
   "cell_type": "code",
   "execution_count": 9,
   "id": "76bddb4e-1ce6-417e-89e6-22af2364bed6",
   "metadata": {},
   "outputs": [],
   "source": [
    "# jieba slow\n",
    "# import jieba.analyse\n",
    "# import pkuseg\n",
    "# import nltk\n",
    "\n",
    "# sentence=str()\n",
    "\n",
    "# document_cut = jieba.cut(summary1)\n",
    "# tokenizer = MWETokenizer([('solar', 'cell')], separator = '_')\n",
    "# # seg = pkuseg.pkuseg(user_dict = \"userdict.txt\")\n",
    "# # text=tokenizer.tokenize(nltk.word_tokenize(summary1))\n",
    "# result = ' '.join(document_cut)\n",
    "# for word in result:\n",
    "#     if word not in stopwords:\n",
    "#         if word != \"\\t\":\n",
    "#             sentence += word\n",
    "\n",
    "# with open('jieba-tokenized.txt', 'w',encoding=\"utf-8\") as f2:\n",
    "#     f2.write(sentence)"
   ]
  },
  {
   "cell_type": "code",
   "execution_count": 2,
   "id": "12614da4-a01b-4404-a823-15f9fb523559",
   "metadata": {},
   "outputs": [],
   "source": [
    "#加载语料\n",
    "from gensim.models import word2vec, KeyedVectors,Word2Vec\n",
    "sentences = word2vec.LineSentence('jieba-tokenized.txt') #正式训练前的格式化"
   ]
  },
  {
   "cell_type": "code",
   "execution_count": 3,
   "id": "5386975b-4adc-4d88-b343-3c1a3f4905c6",
   "metadata": {},
   "outputs": [],
   "source": [
    "#训练语料\n",
    "\n",
    "model = word2vec.Word2Vec(sentences,sg=1, hs=0,min_count=1,window=10,vector_size=100)\n"
   ]
  },
  {
   "cell_type": "code",
   "execution_count": 4,
   "id": "52f215b0-e69c-4d6d-a6db-2657e0458e12",
   "metadata": {},
   "outputs": [],
   "source": [
    "model.wv.save_word2vec_format(r\"jieba-model.bin\") #保存模型"
   ]
  },
  {
   "cell_type": "code",
   "execution_count": 5,
   "id": "ce020057-7296-45ba-8bd0-4c1a963bc66b",
   "metadata": {},
   "outputs": [],
   "source": [
    "# model = gensim.models.Word2Vec.load('word2vec0828b.bin') #加载模型\n",
    "model = KeyedVectors.load_word2vec_format(r\"jieba-model.bin\" ,binary= False) "
   ]
  },
  {
   "cell_type": "code",
   "execution_count": 6,
   "id": "1bbf444f-c19c-485a-b203-d46315b35b16",
   "metadata": {},
   "outputs": [],
   "source": [
    "from sklearn.decomposition import PCA\n",
    "\n"
   ]
  },
  {
   "cell_type": "code",
   "execution_count": 11,
   "id": "b9768157-9d20-4d8e-826c-bb4c8603a36a",
   "metadata": {},
   "outputs": [
    {
     "name": "stdout",
     "output_type": "stream",
     "text": [
      "[[-1.1870403  -1.0112125 ]\n",
      " [-1.3130176   0.54661727]\n",
      " [-1.0837835  -0.8510421 ]\n",
      " [ 1.6440166  -0.09711074]\n",
      " [-0.03639719  2.005958  ]\n",
      " [ 1.976222   -0.59321   ]]\n"
     ]
    },
    {
     "data": {
      "image/png": "[encoded data removed]",
      "text/plain": [
       "<Figure size 432x288 with 1 Axes>"
      ]
     },
     "metadata": {
      "needs_background": "light"
     },
     "output_type": "display_data"
    }
   ],
   "source": [
    "import numpy as np\n",
    "import matplotlib.pyplot as plt\n",
    "\n",
    "X = np.array(model['Cu','Fe','Zn','CuO','FeO','ZnO']) #选择词\n",
    "pca = PCA(n_components=2) #选择需要降成的维度\n",
    "Y = pca.fit_transform(X) #将100维词向量降维成2维\n",
    "\n",
    "print(Y)\n",
    "txt = ['Cu','Fe','Zn','CuO','FeO','ZnO','光伏'] #图中每个点的标注\n",
    "\n",
    "x = Y[:,0] #图中每个点的横坐标\n",
    "\n",
    "y = Y[:,1] #图中每个点的纵坐标\n",
    "\n",
    "plt.scatter(x, y)\n",
    "for i in range(len(x)):\n",
    "    plt.annotate(txt[i], xy = (x[i], y[i]), xytext = (x[i]+0.001, y[i]+0.001)) #使用matplotlib在图中画出每个点\n",
    "\n",
    "plt.show()"
   ]
  },
  {
   "cell_type": "code",
   "execution_count": 22,
   "id": "da4d595f-3946-4055-be76-f8e454287170",
   "metadata": {},
   "outputs": [
    {
     "name": "stdout",
     "output_type": "stream",
     "text": [
      "[[-2.3817213   1.3638877 ]\n",
      " [ 0.9731223  -1.2566364 ]\n",
      " [ 0.88634205  0.52282524]\n",
      " [ 2.7697527   2.079913  ]\n",
      " [ 0.4146901  -0.7121198 ]\n",
      " [ 0.5465214  -1.530956  ]\n",
      " [ 1.8812617  -0.24345799]\n",
      " [-1.7250211  -0.80654675]\n",
      " [-1.3046885  -0.4671408 ]\n",
      " [-2.0602593   1.0502313 ]]\n"
     ]
    },
    {
     "data": {
      "image/png": "[encoded data removed]",
      "text/plain": [
       "<Figure size 432x288 with 1 Axes>"
      ]
     },
     "metadata": {
      "needs_background": "light"
     },
     "output_type": "display_data"
    }
   ],
   "source": [
    "import numpy as np\n",
    "import matplotlib.pyplot as plt\n",
    "\n",
    "X = np.array(model['碳酸氢钠','钙钛矿','硅','砷化镓','ZnO','锂电池','光伏','乳液','聚氨酯','三乙醇胺']) #选择词\n",
    "pca = PCA(n_components=2) #选择需要降成的维度\n",
    "Y = pca.fit_transform(X) #将100维词向量降维成2维\n",
    "\n",
    "print(Y)\n",
    "txt = ['TanSuanQingNa','GaiTaiKuang','Gui','ShenHuaJia','ZnO','LiDianChi','GuangFu','RuYe','JuAnZhi','SanYiChunAn'] #图中每个点的标注\n",
    "\n",
    "x = Y[:,0] #图中每个点的横坐标\n",
    "\n",
    "y = Y[:,1] #图中每个点的纵坐标\n",
    "\n",
    "plt.scatter(x, y)\n",
    "for i in range(len(x)):\n",
    "    plt.annotate(txt[i], xy = (x[i], y[i]), xytext = (x[i]+0.001, y[i]+0.001)) #使用matplotlib在图中画出每个点\n",
    "\n",
    "plt.show()"
   ]
  },
  {
   "cell_type": "code",
   "execution_count": null,
   "id": "79548b14-e6ae-44f6-a82f-24ddb12812d7",
   "metadata": {},
   "outputs": [],
   "source": [
    "# DBSCAN, PCA"
   ]
  }
 ],
 "metadata": {
  "kernelspec": {
   "display_name": "Python [conda env:py37]",
   "language": "python",
   "name": "conda-env-py37-py"
  },
  "language_info": {
   "codemirror_mode": {
    "name": "ipython",
    "version": 3
   },
   "file_extension": ".py",
   "mimetype": "text/x-python",
   "name": "python",
   "nbconvert_exporter": "python",
   "pygments_lexer": "ipython3",
   "version": "3.7.0"
  }
 },
 "nbformat": 4,
 "nbformat_minor": 5
}
